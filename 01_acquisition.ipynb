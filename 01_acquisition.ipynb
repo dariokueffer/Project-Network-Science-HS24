{
 "cells": [
  {
   "cell_type": "code",
   "execution_count": 1,
   "metadata": {},
   "outputs": [],
   "source": [
    "from src.acquisition.graph_tool.contributor_graph_builder import ContributorGraphBuilder\n",
    "from src.acquisition.models.database_manager import DatabaseManager\n",
    "from src.acquisition.models.db.database import db\n",
    "from src.acquisition.wikipedia_crawler import WikipediaCategoryCrawler"
   ]
  },
  {
   "cell_type": "code",
   "execution_count": 2,
   "metadata": {},
   "outputs": [
    {
     "name": "stdout",
     "output_type": "stream",
     "text": [
      "Database initialized: wikipedia.db\n"
     ]
    }
   ],
   "source": [
    "from src.acquisition.models.db.database import initialize_db\n",
    "\n",
    "category = 'Machine learning'\n",
    "db_name = category.replace(' ', '_') + '.db'\n",
    "db_name = 'wikipedia.db'\n",
    "initialize_db(db_name)  "
   ]
  },
  {
   "cell_type": "code",
   "execution_count": 3,
   "metadata": {},
   "outputs": [],
   "source": [
    "db_manager = DatabaseManager(db)"
   ]
  },
  {
   "cell_type": "code",
   "execution_count": 6,
   "metadata": {},
   "outputs": [
    {
     "name": "stdout",
     "output_type": "stream",
     "text": [
      "{'id': 1, 'name': 'Amiga CD32 games', 'number_of_subcategories': 2, 'number_of_pages': 143, 'number_of_contributors': 8013, 'number_of_contributions': 29370}\n",
      "{'id': 2, 'name': 'Artificial intelligence', 'number_of_subcategories': 109, 'number_of_pages': 8695, 'number_of_contributors': 610800, 'number_of_contributions': 2481785}\n",
      "{'id': 3, 'name': 'Game Boy games', 'number_of_subcategories': 6, 'number_of_pages': 569, 'number_of_contributors': 42580, 'number_of_contributions': 173208}\n",
      "{'id': 4, 'name': 'Machine learning', 'number_of_subcategories': 61, 'number_of_pages': 529, 'number_of_contributors': 11844, 'number_of_contributions': 33158}\n"
     ]
    }
   ],
   "source": [
    "items = db_manager.get_all_categories()\n",
    "for item in items:\n",
    "    print(item.to_dict())\n"
   ]
  },
  {
   "cell_type": "code",
   "execution_count": 5,
   "metadata": {},
   "outputs": [
    {
     "name": "stdout",
     "output_type": "stream",
     "text": [
      "\n",
      "Number of Subcategories: 87\n",
      "Subcategory 1/87: Applied machine learning\n",
      "\n",
      "Number of pages in category 'Applied machine learning': 60\n"
     ]
    },
    {
     "name": "stderr",
     "output_type": "stream",
     "text": [
      "Processing Pages: 100%|██████████| 60/60 [01:16<00:00,  1.27s/page]\n"
     ]
    },
    {
     "name": "stdout",
     "output_type": "stream",
     "text": [
      "Subcategory 2/87: AlphaGo\n",
      "\n",
      "Number of pages in category 'AlphaGo': 13\n"
     ]
    },
    {
     "name": "stderr",
     "output_type": "stream",
     "text": [
      "Processing Pages: 100%|██████████| 13/13 [00:15<00:00,  1.17s/page]\n"
     ]
    },
    {
     "name": "stdout",
     "output_type": "stream",
     "text": [
      "Subcategory 3/87: Deep learning software applications\n",
      "\n",
      "Number of pages in category 'Deep learning software applications': 31\n"
     ]
    },
    {
     "name": "stderr",
     "output_type": "stream",
     "text": [
      "Processing Pages: 100%|██████████| 31/31 [00:36<00:00,  1.17s/page]\n"
     ]
    },
    {
     "name": "stdout",
     "output_type": "stream",
     "text": [
      "Subcategory 4/87: Large language models\n",
      "\n",
      "Number of pages in category 'Large language models': 51\n"
     ]
    },
    {
     "name": "stderr",
     "output_type": "stream",
     "text": [
      "Processing Pages: 100%|██████████| 51/51 [01:04<00:00,  1.26s/page]\n"
     ]
    },
    {
     "name": "stdout",
     "output_type": "stream",
     "text": [
      "Subcategory 5/87: Google DeepMind\n",
      "\n",
      "Number of pages in category 'Google DeepMind': 9\n"
     ]
    },
    {
     "name": "stderr",
     "output_type": "stream",
     "text": [
      "Processing Pages: 100%|██████████| 9/9 [00:22<00:00,  2.49s/page]\n"
     ]
    },
    {
     "name": "stdout",
     "output_type": "stream",
     "text": [
      "Subcategory 6/87: AlphaGo\n",
      "\n",
      "Number of pages in category 'AlphaGo': 13\n"
     ]
    },
    {
     "name": "stderr",
     "output_type": "stream",
     "text": [
      "Processing Pages: 100%|██████████| 13/13 [00:16<00:00,  1.24s/page]\n"
     ]
    },
    {
     "name": "stdout",
     "output_type": "stream",
     "text": [
      "Subcategory 7/87: DeepMind people\n",
      "\n",
      "Number of pages in category 'DeepMind people': 18\n"
     ]
    },
    {
     "name": "stderr",
     "output_type": "stream",
     "text": [
      "Processing Pages: 100%|██████████| 18/18 [00:16<00:00,  1.10page/s]\n"
     ]
    },
    {
     "name": "stdout",
     "output_type": "stream",
     "text": [
      "Subcategory 8/87: Artificial neural networks\n",
      "\n",
      "Number of pages in category 'Artificial neural networks': 155\n"
     ]
    },
    {
     "name": "stderr",
     "output_type": "stream",
     "text": [
      "Processing Pages: 100%|██████████| 155/155 [02:13<00:00,  1.16page/s]\n"
     ]
    },
    {
     "name": "stdout",
     "output_type": "stream",
     "text": [
      "Subcategory 9/87: Deep learning\n",
      "\n",
      "Number of pages in category 'Deep learning': 47\n"
     ]
    },
    {
     "name": "stderr",
     "output_type": "stream",
     "text": [
      "Processing Pages: 100%|██████████| 47/47 [01:12<00:00,  1.54s/page]\n"
     ]
    },
    {
     "name": "stdout",
     "output_type": "stream",
     "text": [
      "Subcategory 10/87: Deep learning software\n",
      "\n",
      "Number of pages in category 'Deep learning software': 22\n"
     ]
    },
    {
     "name": "stderr",
     "output_type": "stream",
     "text": [
      "Processing Pages: 100%|██████████| 22/22 [00:19<00:00,  1.13page/s]\n"
     ]
    },
    {
     "name": "stdout",
     "output_type": "stream",
     "text": [
      "Subcategory 11/87: Deepfakes\n",
      "\n",
      "Number of pages in category 'Deepfakes': 20\n"
     ]
    },
    {
     "name": "stderr",
     "output_type": "stream",
     "text": [
      "Processing Pages: 100%|██████████| 20/20 [00:46<00:00,  2.31s/page]\n"
     ]
    },
    {
     "name": "stdout",
     "output_type": "stream",
     "text": [
      "Subcategory 12/87: Google DeepMind\n",
      "\n",
      "Number of pages in category 'Google DeepMind': 9\n"
     ]
    },
    {
     "name": "stderr",
     "output_type": "stream",
     "text": [
      "Processing Pages: 100%|██████████| 9/9 [00:13<00:00,  1.47s/page]\n"
     ]
    },
    {
     "name": "stdout",
     "output_type": "stream",
     "text": [
      "Subcategory 13/87: Text-to-image generation\n",
      "\n",
      "Number of pages in category 'Text-to-image generation': 23\n"
     ]
    },
    {
     "name": "stderr",
     "output_type": "stream",
     "text": [
      "Processing Pages: 100%|██████████| 23/23 [00:28<00:00,  1.25s/page]\n"
     ]
    },
    {
     "name": "stdout",
     "output_type": "stream",
     "text": [
      "Subcategory 14/87: Text-to-video generation\n",
      "\n",
      "Number of pages in category 'Text-to-video generation': 11\n"
     ]
    },
    {
     "name": "stderr",
     "output_type": "stream",
     "text": [
      "Processing Pages: 100%|██████████| 11/11 [00:14<00:00,  1.30s/page]\n"
     ]
    },
    {
     "name": "stdout",
     "output_type": "stream",
     "text": [
      "Subcategory 15/87: Neural network architectures\n",
      "\n",
      "Number of pages in category 'Neural network architectures': 30\n"
     ]
    },
    {
     "name": "stderr",
     "output_type": "stream",
     "text": [
      "Processing Pages: 100%|██████████| 30/30 [00:51<00:00,  1.72s/page]\n"
     ]
    },
    {
     "name": "stdout",
     "output_type": "stream",
     "text": [
      "Subcategory 16/87: Neural network data exchange formats\n",
      "\n",
      "Number of pages in category 'Neural network data exchange formats': 2\n"
     ]
    },
    {
     "name": "stderr",
     "output_type": "stream",
     "text": [
      "Processing Pages: 100%|██████████| 2/2 [00:00<00:00,  2.73page/s]\n"
     ]
    },
    {
     "name": "stdout",
     "output_type": "stream",
     "text": [
      "Subcategory 17/87: Neural network software\n",
      "\n",
      "Number of pages in category 'Neural network software': 13\n"
     ]
    },
    {
     "name": "stderr",
     "output_type": "stream",
     "text": [
      "Processing Pages: 100%|██████████| 13/13 [00:06<00:00,  2.04page/s]\n"
     ]
    },
    {
     "name": "stdout",
     "output_type": "stream",
     "text": [
      "Subcategory 18/87: Deep learning software\n",
      "\n",
      "Number of pages in category 'Deep learning software': 22\n"
     ]
    },
    {
     "name": "stderr",
     "output_type": "stream",
     "text": [
      "Processing Pages: 100%|██████████| 22/22 [00:19<00:00,  1.11page/s]\n"
     ]
    },
    {
     "name": "stdout",
     "output_type": "stream",
     "text": [
      "Subcategory 19/87: Bayesian networks\n",
      "\n",
      "Number of pages in category 'Bayesian networks': 13\n"
     ]
    },
    {
     "name": "stderr",
     "output_type": "stream",
     "text": [
      "Processing Pages: 100%|██████████| 13/13 [00:13<00:00,  1.05s/page]\n"
     ]
    },
    {
     "name": "stdout",
     "output_type": "stream",
     "text": [
      "Subcategory 20/87: Blockmodeling\n",
      "\n",
      "Number of pages in category 'Blockmodeling': 15\n"
     ]
    },
    {
     "name": "stderr",
     "output_type": "stream",
     "text": [
      "Processing Pages: 100%|██████████| 15/15 [00:07<00:00,  1.95page/s]\n"
     ]
    },
    {
     "name": "stdout",
     "output_type": "stream",
     "text": [
      "Subcategory 21/87: Classification algorithms\n",
      "\n",
      "Number of pages in category 'Classification algorithms': 85\n"
     ]
    },
    {
     "name": "stderr",
     "output_type": "stream",
     "text": [
      "Processing Pages: 100%|██████████| 85/85 [01:52<00:00,  1.32s/page]\n"
     ]
    },
    {
     "name": "stdout",
     "output_type": "stream",
     "text": [
      "Subcategory 22/87: Artificial neural networks\n",
      "\n",
      "Number of pages in category 'Artificial neural networks': 155\n"
     ]
    },
    {
     "name": "stderr",
     "output_type": "stream",
     "text": [
      "Processing Pages: 100%|██████████| 155/155 [02:14<00:00,  1.15page/s]\n"
     ]
    },
    {
     "name": "stdout",
     "output_type": "stream",
     "text": [
      "Subcategory 23/87: Decision trees\n",
      "\n",
      "Number of pages in category 'Decision trees': 18\n"
     ]
    },
    {
     "name": "stderr",
     "output_type": "stream",
     "text": [
      "Processing Pages: 100%|██████████| 18/18 [00:24<00:00,  1.36s/page]\n"
     ]
    },
    {
     "name": "stdout",
     "output_type": "stream",
     "text": [
      "Subcategory 24/87: Ensemble learning\n",
      "\n",
      "Number of pages in category 'Ensemble learning': 13\n"
     ]
    },
    {
     "name": "stderr",
     "output_type": "stream",
     "text": [
      "Processing Pages: 100%|██████████| 13/13 [00:16<00:00,  1.28s/page]\n"
     ]
    },
    {
     "name": "stdout",
     "output_type": "stream",
     "text": [
      "Subcategory 25/87: Cluster analysis\n",
      "\n",
      "Number of pages in category 'Cluster analysis': 22\n"
     ]
    },
    {
     "name": "stderr",
     "output_type": "stream",
     "text": [
      "Processing Pages: 100%|██████████| 22/22 [00:25<00:00,  1.14s/page]\n"
     ]
    },
    {
     "name": "stdout",
     "output_type": "stream",
     "text": [
      "Subcategory 26/87: Cluster analysis algorithms\n",
      "\n",
      "Number of pages in category 'Cluster analysis algorithms': 42\n"
     ]
    },
    {
     "name": "stderr",
     "output_type": "stream",
     "text": [
      "Processing Pages: 100%|██████████| 42/42 [00:48<00:00,  1.15s/page]\n"
     ]
    },
    {
     "name": "stdout",
     "output_type": "stream",
     "text": [
      "Subcategory 27/87: Clustering criteria\n",
      "\n",
      "Number of pages in category 'Clustering criteria': 20\n"
     ]
    },
    {
     "name": "stderr",
     "output_type": "stream",
     "text": [
      "Processing Pages: 100%|██████████| 20/20 [00:14<00:00,  1.35page/s]\n"
     ]
    },
    {
     "name": "stdout",
     "output_type": "stream",
     "text": [
      "Subcategory 28/87: Computational learning theory\n",
      "\n",
      "Number of pages in category 'Computational learning theory': 22\n"
     ]
    },
    {
     "name": "stderr",
     "output_type": "stream",
     "text": [
      "Processing Pages: 100%|██████████| 22/22 [00:11<00:00,  1.85page/s]\n"
     ]
    },
    {
     "name": "stdout",
     "output_type": "stream",
     "text": [
      "Subcategory 29/87: Artificial intelligence conferences\n",
      "\n",
      "Number of pages in category 'Artificial intelligence conferences': 32\n"
     ]
    },
    {
     "name": "stderr",
     "output_type": "stream",
     "text": [
      "Processing Pages: 100%|██████████| 32/32 [00:18<00:00,  1.73page/s]\n"
     ]
    },
    {
     "name": "stdout",
     "output_type": "stream",
     "text": [
      "Subcategory 30/87: Signal processing conferences\n",
      "\n",
      "Number of pages in category 'Signal processing conferences': 6\n"
     ]
    },
    {
     "name": "stderr",
     "output_type": "stream",
     "text": [
      "Processing Pages: 100%|██████████| 6/6 [00:05<00:00,  1.06page/s]\n"
     ]
    },
    {
     "name": "stdout",
     "output_type": "stream",
     "text": [
      "Subcategory 31/87: Signal processing conferences\n",
      "\n",
      "Number of pages in category 'Signal processing conferences': 6\n"
     ]
    },
    {
     "name": "stderr",
     "output_type": "stream",
     "text": [
      "Processing Pages: 100%|██████████| 6/6 [00:05<00:00,  1.05page/s]\n"
     ]
    },
    {
     "name": "stdout",
     "output_type": "stream",
     "text": [
      "Subcategory 32/87: Data mining and machine learning software\n",
      "\n",
      "Number of pages in category 'Data mining and machine learning software': 89\n"
     ]
    },
    {
     "name": "stderr",
     "output_type": "stream",
     "text": [
      "Processing Pages: 100%|██████████| 89/89 [02:25<00:00,  1.63s/page]\n"
     ]
    },
    {
     "name": "stdout",
     "output_type": "stream",
     "text": [
      "Subcategory 33/87: Deep learning software\n",
      "\n",
      "Number of pages in category 'Deep learning software': 22\n"
     ]
    },
    {
     "name": "stderr",
     "output_type": "stream",
     "text": [
      "Processing Pages: 100%|██████████| 22/22 [00:17<00:00,  1.23page/s]\n"
     ]
    },
    {
     "name": "stdout",
     "output_type": "stream",
     "text": [
      "Subcategory 34/87: Deep learning software applications\n",
      "\n",
      "Number of pages in category 'Deep learning software applications': 31\n"
     ]
    },
    {
     "name": "stderr",
     "output_type": "stream",
     "text": [
      "Processing Pages: 100%|██████████| 31/31 [00:35<00:00,  1.14s/page]\n"
     ]
    },
    {
     "name": "stdout",
     "output_type": "stream",
     "text": [
      "Subcategory 35/87: Neural network software\n",
      "\n",
      "Number of pages in category 'Neural network software': 13\n"
     ]
    },
    {
     "name": "stderr",
     "output_type": "stream",
     "text": [
      "Processing Pages: 100%|██████████| 13/13 [00:05<00:00,  2.22page/s]\n"
     ]
    },
    {
     "name": "stdout",
     "output_type": "stream",
     "text": [
      "Subcategory 36/87: Social network analysis software\n",
      "\n",
      "Number of pages in category 'Social network analysis software': 7\n"
     ]
    },
    {
     "name": "stderr",
     "output_type": "stream",
     "text": [
      "Processing Pages: 100%|██████████| 7/7 [00:07<00:00,  1.06s/page]\n"
     ]
    },
    {
     "name": "stdout",
     "output_type": "stream",
     "text": [
      "Subcategory 37/87: Datasets in machine learning\n",
      "\n",
      "Number of pages in category 'Datasets in machine learning': 12\n"
     ]
    },
    {
     "name": "stderr",
     "output_type": "stream",
     "text": [
      "Processing Pages: 100%|██████████| 12/12 [00:12<00:00,  1.01s/page]\n"
     ]
    },
    {
     "name": "stdout",
     "output_type": "stream",
     "text": [
      "Subcategory 38/87: Datasets in computer vision\n",
      "\n",
      "Number of pages in category 'Datasets in computer vision': 16\n"
     ]
    },
    {
     "name": "stderr",
     "output_type": "stream",
     "text": [
      "Processing Pages: 100%|██████████| 16/16 [00:07<00:00,  2.04page/s]\n"
     ]
    },
    {
     "name": "stdout",
     "output_type": "stream",
     "text": [
      "Subcategory 39/87: Dimension reduction\n",
      "\n",
      "Number of pages in category 'Dimension reduction': 47\n"
     ]
    },
    {
     "name": "stderr",
     "output_type": "stream",
     "text": [
      "Processing Pages: 100%|██████████| 47/47 [00:57<00:00,  1.23s/page]\n"
     ]
    },
    {
     "name": "stdout",
     "output_type": "stream",
     "text": [
      "Subcategory 40/87: Factor analysis\n",
      "\n",
      "Number of pages in category 'Factor analysis': 20\n"
     ]
    },
    {
     "name": "stderr",
     "output_type": "stream",
     "text": [
      "Processing Pages: 100%|██████████| 20/20 [00:16<00:00,  1.23page/s]\n"
     ]
    },
    {
     "name": "stdout",
     "output_type": "stream",
     "text": [
      "Subcategory 41/87: Ensemble learning\n",
      "\n",
      "Number of pages in category 'Ensemble learning': 13\n"
     ]
    },
    {
     "name": "stderr",
     "output_type": "stream",
     "text": [
      "Processing Pages: 100%|██████████| 13/13 [00:15<00:00,  1.19s/page]\n"
     ]
    },
    {
     "name": "stdout",
     "output_type": "stream",
     "text": [
      "Subcategory 42/87: Evolutionary algorithms\n",
      "\n",
      "Number of pages in category 'Evolutionary algorithms': 50\n"
     ]
    },
    {
     "name": "stderr",
     "output_type": "stream",
     "text": [
      "Processing Pages: 100%|██████████| 50/50 [00:49<00:00,  1.00page/s]\n"
     ]
    },
    {
     "name": "stdout",
     "output_type": "stream",
     "text": [
      "Subcategory 43/87: Gene expression programming\n",
      "\n",
      "Number of pages in category 'Gene expression programming': 2\n"
     ]
    },
    {
     "name": "stderr",
     "output_type": "stream",
     "text": [
      "Processing Pages: 100%|██████████| 2/2 [00:08<00:00,  4.38s/page]\n"
     ]
    },
    {
     "name": "stdout",
     "output_type": "stream",
     "text": [
      "Subcategory 44/87: Genetic algorithms\n",
      "\n",
      "Number of pages in category 'Genetic algorithms': 43\n"
     ]
    },
    {
     "name": "stderr",
     "output_type": "stream",
     "text": [
      "Processing Pages: 100%|██████████| 43/43 [00:35<00:00,  1.20page/s]\n"
     ]
    },
    {
     "name": "stdout",
     "output_type": "stream",
     "text": [
      "Subcategory 45/87: Artificial immune systems\n",
      "\n",
      "Number of pages in category 'Artificial immune systems': 4\n"
     ]
    },
    {
     "name": "stderr",
     "output_type": "stream",
     "text": [
      "Processing Pages: 100%|██████████| 4/4 [00:02<00:00,  1.49page/s]\n"
     ]
    },
    {
     "name": "stdout",
     "output_type": "stream",
     "text": [
      "Subcategory 46/87: Gene expression programming\n",
      "\n",
      "Number of pages in category 'Gene expression programming': 2\n"
     ]
    },
    {
     "name": "stderr",
     "output_type": "stream",
     "text": [
      "Processing Pages: 100%|██████████| 2/2 [00:07<00:00,  3.62s/page]\n"
     ]
    },
    {
     "name": "stdout",
     "output_type": "stream",
     "text": [
      "Subcategory 47/87: Genetic programming\n",
      "\n",
      "Number of pages in category 'Genetic programming': 14\n"
     ]
    },
    {
     "name": "stderr",
     "output_type": "stream",
     "text": [
      "Processing Pages: 100%|██████████| 14/14 [00:13<00:00,  1.06page/s]\n"
     ]
    },
    {
     "name": "stdout",
     "output_type": "stream",
     "text": [
      "Subcategory 48/87: Nature-inspired metaheuristics\n",
      "\n",
      "Number of pages in category 'Nature-inspired metaheuristics': 20\n"
     ]
    },
    {
     "name": "stderr",
     "output_type": "stream",
     "text": [
      "Processing Pages: 100%|██████████| 20/20 [00:28<00:00,  1.45s/page]\n"
     ]
    },
    {
     "name": "stdout",
     "output_type": "stream",
     "text": [
      "Subcategory 49/87: Genetic programming\n",
      "\n",
      "Number of pages in category 'Genetic programming': 14\n"
     ]
    },
    {
     "name": "stderr",
     "output_type": "stream",
     "text": [
      "Processing Pages: 100%|██████████| 14/14 [00:15<00:00,  1.12s/page]\n"
     ]
    },
    {
     "name": "stdout",
     "output_type": "stream",
     "text": [
      "Subcategory 50/87: Inductive logic programming\n",
      "\n",
      "Number of pages in category 'Inductive logic programming': 7\n"
     ]
    },
    {
     "name": "stderr",
     "output_type": "stream",
     "text": [
      "Processing Pages: 100%|██████████| 7/7 [00:04<00:00,  1.66page/s]\n"
     ]
    },
    {
     "name": "stdout",
     "output_type": "stream",
     "text": [
      "Subcategory 51/87: Kernel methods for machine learning\n",
      "\n",
      "Number of pages in category 'Kernel methods for machine learning': 18\n"
     ]
    },
    {
     "name": "stderr",
     "output_type": "stream",
     "text": [
      "Processing Pages: 100%|██████████| 18/18 [00:14<00:00,  1.27page/s]\n"
     ]
    },
    {
     "name": "stdout",
     "output_type": "stream",
     "text": [
      "Subcategory 52/87: Support vector machines\n",
      "\n",
      "Number of pages in category 'Support vector machines': 9\n"
     ]
    },
    {
     "name": "stderr",
     "output_type": "stream",
     "text": [
      "Processing Pages: 100%|██████████| 9/9 [00:13<00:00,  1.49s/page]\n"
     ]
    },
    {
     "name": "stdout",
     "output_type": "stream",
     "text": [
      "Subcategory 53/87: Latent variable models\n",
      "\n",
      "Number of pages in category 'Latent variable models': 26\n"
     ]
    },
    {
     "name": "stderr",
     "output_type": "stream",
     "text": [
      "Processing Pages: 100%|██████████| 26/26 [00:36<00:00,  1.40s/page]\n"
     ]
    },
    {
     "name": "stdout",
     "output_type": "stream",
     "text": [
      "Subcategory 54/87: Factor analysis\n",
      "\n",
      "Number of pages in category 'Factor analysis': 20\n"
     ]
    },
    {
     "name": "stderr",
     "output_type": "stream",
     "text": [
      "Processing Pages: 100%|██████████| 20/20 [00:15<00:00,  1.30page/s]\n"
     ]
    },
    {
     "name": "stdout",
     "output_type": "stream",
     "text": [
      "Subcategory 55/87: Structural equation models\n",
      "\n",
      "Number of pages in category 'Structural equation models': 13\n"
     ]
    },
    {
     "name": "stderr",
     "output_type": "stream",
     "text": [
      "Processing Pages: 100%|██████████| 13/13 [00:11<00:00,  1.11page/s]\n"
     ]
    },
    {
     "name": "stdout",
     "output_type": "stream",
     "text": [
      "Subcategory 56/87: Learning in computer vision\n",
      "\n",
      "Number of pages in category 'Learning in computer vision': 5\n"
     ]
    },
    {
     "name": "stderr",
     "output_type": "stream",
     "text": [
      "Processing Pages: 100%|██████████| 5/5 [00:03<00:00,  1.37page/s]\n"
     ]
    },
    {
     "name": "stdout",
     "output_type": "stream",
     "text": [
      "Subcategory 57/87: Log-linear models\n",
      "\n",
      "Number of pages in category 'Log-linear models': 2\n"
     ]
    },
    {
     "name": "stderr",
     "output_type": "stream",
     "text": [
      "Processing Pages: 100%|██████████| 2/2 [00:00<00:00,  3.14page/s]\n"
     ]
    },
    {
     "name": "stdout",
     "output_type": "stream",
     "text": [
      "Subcategory 58/87: Loss functions\n",
      "\n",
      "Number of pages in category 'Loss functions': 11\n"
     ]
    },
    {
     "name": "stderr",
     "output_type": "stream",
     "text": [
      "Processing Pages: 100%|██████████| 11/11 [00:10<00:00,  1.09page/s]\n"
     ]
    },
    {
     "name": "stdout",
     "output_type": "stream",
     "text": [
      "Subcategory 59/87: Machine learning algorithms\n",
      "\n",
      "Number of pages in category 'Machine learning algorithms': 84\n"
     ]
    },
    {
     "name": "stderr",
     "output_type": "stream",
     "text": [
      "Processing Pages: 100%|██████████| 84/84 [01:16<00:00,  1.10page/s]\n"
     ]
    },
    {
     "name": "stdout",
     "output_type": "stream",
     "text": [
      "Subcategory 60/87: Genetic algorithms\n",
      "\n",
      "Number of pages in category 'Genetic algorithms': 43\n"
     ]
    },
    {
     "name": "stderr",
     "output_type": "stream",
     "text": [
      "Processing Pages: 100%|██████████| 43/43 [00:39<00:00,  1.08page/s]\n"
     ]
    },
    {
     "name": "stdout",
     "output_type": "stream",
     "text": [
      "Subcategory 61/87: Machine learning task\n",
      "\n",
      "Number of pages in category 'Machine learning task': 9\n"
     ]
    },
    {
     "name": "stderr",
     "output_type": "stream",
     "text": [
      "Processing Pages: 100%|██████████| 9/9 [00:42<00:00,  4.73s/page]\n"
     ]
    },
    {
     "name": "stdout",
     "output_type": "stream",
     "text": [
      "Subcategory 62/87: Text-to-image generation\n",
      "\n",
      "Number of pages in category 'Text-to-image generation': 23\n"
     ]
    },
    {
     "name": "stderr",
     "output_type": "stream",
     "text": [
      "Processing Pages: 100%|██████████| 23/23 [00:29<00:00,  1.26s/page]\n"
     ]
    },
    {
     "name": "stdout",
     "output_type": "stream",
     "text": [
      "Subcategory 63/87: Text-to-video generation\n",
      "\n",
      "Number of pages in category 'Text-to-video generation': 11\n"
     ]
    },
    {
     "name": "stderr",
     "output_type": "stream",
     "text": [
      "Processing Pages: 100%|██████████| 11/11 [00:15<00:00,  1.37s/page]\n"
     ]
    },
    {
     "name": "stdout",
     "output_type": "stream",
     "text": [
      "Subcategory 64/87: Markov models\n",
      "\n",
      "Number of pages in category 'Markov models': 62\n"
     ]
    },
    {
     "name": "stderr",
     "output_type": "stream",
     "text": [
      "Processing Pages: 100%|██████████| 62/62 [02:05<00:00,  2.02s/page]\n"
     ]
    },
    {
     "name": "stdout",
     "output_type": "stream",
     "text": [
      "Subcategory 65/87: Hidden Markov models\n",
      "\n",
      "Number of pages in category 'Hidden Markov models': 8\n"
     ]
    },
    {
     "name": "stderr",
     "output_type": "stream",
     "text": [
      "Processing Pages: 100%|██████████| 8/8 [00:23<00:00,  2.95s/page]\n"
     ]
    },
    {
     "name": "stdout",
     "output_type": "stream",
     "text": [
      "Subcategory 66/87: Markov networks\n",
      "\n",
      "Number of pages in category 'Markov networks': 8\n"
     ]
    },
    {
     "name": "stderr",
     "output_type": "stream",
     "text": [
      "Processing Pages: 100%|██████████| 8/8 [00:06<00:00,  1.24page/s]\n"
     ]
    },
    {
     "name": "stdout",
     "output_type": "stream",
     "text": [
      "Subcategory 67/87: Ontology learning (computer science)\n",
      "\n",
      "Number of pages in category 'Ontology learning (computer science)': 2\n"
     ]
    },
    {
     "name": "stderr",
     "output_type": "stream",
     "text": [
      "Processing Pages: 100%|██████████| 2/2 [00:01<00:00,  1.45page/s]\n"
     ]
    },
    {
     "name": "stdout",
     "output_type": "stream",
     "text": [
      "Subcategory 68/87: Reinforcement learning\n",
      "\n",
      "Number of pages in category 'Reinforcement learning': 13\n"
     ]
    },
    {
     "name": "stderr",
     "output_type": "stream",
     "text": [
      "Processing Pages: 100%|██████████| 13/13 [00:15<00:00,  1.17s/page]\n"
     ]
    },
    {
     "name": "stdout",
     "output_type": "stream",
     "text": [
      "Subcategory 69/87: Machine learning researchers\n",
      "\n",
      "Number of pages in category 'Machine learning researchers': 173\n"
     ]
    },
    {
     "name": "stderr",
     "output_type": "stream",
     "text": [
      "Processing Pages: 100%|██████████| 173/173 [02:34<00:00,  1.12page/s]\n"
     ]
    },
    {
     "name": "stdout",
     "output_type": "stream",
     "text": [
      "Subcategory 70/87: Natural language processing researchers\n",
      "\n",
      "Number of pages in category 'Natural language processing researchers': 136\n"
     ]
    },
    {
     "name": "stderr",
     "output_type": "stream",
     "text": [
      "Processing Pages: 100%|██████████| 136/136 [01:17<00:00,  1.75page/s]\n"
     ]
    },
    {
     "name": "stdout",
     "output_type": "stream",
     "text": [
      "Subcategory 71/87: Semisupervised learning\n",
      "\n",
      "Number of pages in category 'Semisupervised learning': 2\n"
     ]
    },
    {
     "name": "stderr",
     "output_type": "stream",
     "text": [
      "Processing Pages: 100%|██████████| 2/2 [00:03<00:00,  1.83s/page]\n"
     ]
    },
    {
     "name": "stdout",
     "output_type": "stream",
     "text": [
      "Subcategory 72/87: Statistical natural language processing\n",
      "\n",
      "Number of pages in category 'Statistical natural language processing': 38\n"
     ]
    },
    {
     "name": "stderr",
     "output_type": "stream",
     "text": [
      "Processing Pages: 100%|██████████| 38/38 [00:39<00:00,  1.04s/page]\n"
     ]
    },
    {
     "name": "stdout",
     "output_type": "stream",
     "text": [
      "Subcategory 73/87: Language modeling\n",
      "\n",
      "Number of pages in category 'Language modeling': 23\n"
     ]
    },
    {
     "name": "stderr",
     "output_type": "stream",
     "text": [
      "Processing Pages: 100%|██████████| 23/23 [00:21<00:00,  1.09page/s]\n"
     ]
    },
    {
     "name": "stdout",
     "output_type": "stream",
     "text": [
      "Subcategory 74/87: Large language models\n",
      "\n",
      "Number of pages in category 'Large language models': 51\n"
     ]
    },
    {
     "name": "stderr",
     "output_type": "stream",
     "text": [
      "Processing Pages: 100%|██████████| 51/51 [01:05<00:00,  1.29s/page]\n"
     ]
    },
    {
     "name": "stdout",
     "output_type": "stream",
     "text": [
      "Subcategory 75/87: Text-to-image generation\n",
      "\n",
      "Number of pages in category 'Text-to-image generation': 22\n"
     ]
    },
    {
     "name": "stderr",
     "output_type": "stream",
     "text": [
      "Processing Pages: 100%|██████████| 22/22 [00:27<00:00,  1.25s/page]\n"
     ]
    },
    {
     "name": "stdout",
     "output_type": "stream",
     "text": [
      "Subcategory 76/87: Text-to-video generation\n",
      "\n",
      "Number of pages in category 'Text-to-video generation': 11\n"
     ]
    },
    {
     "name": "stderr",
     "output_type": "stream",
     "text": [
      "Processing Pages: 100%|██████████| 11/11 [00:14<00:00,  1.33s/page]\n"
     ]
    },
    {
     "name": "stdout",
     "output_type": "stream",
     "text": [
      "Subcategory 77/87: Structured prediction\n",
      "\n",
      "Number of pages in category 'Structured prediction': 4\n"
     ]
    },
    {
     "name": "stderr",
     "output_type": "stream",
     "text": [
      "Processing Pages: 100%|██████████| 4/4 [00:01<00:00,  2.45page/s]\n"
     ]
    },
    {
     "name": "stdout",
     "output_type": "stream",
     "text": [
      "Subcategory 78/87: Graphical models\n",
      "\n",
      "Number of pages in category 'Graphical models': 25\n"
     ]
    },
    {
     "name": "stderr",
     "output_type": "stream",
     "text": [
      "Processing Pages: 100%|██████████| 25/25 [00:30<00:00,  1.22s/page]\n"
     ]
    },
    {
     "name": "stdout",
     "output_type": "stream",
     "text": [
      "Subcategory 79/87: Bayesian networks\n",
      "\n",
      "Number of pages in category 'Bayesian networks': 13\n"
     ]
    },
    {
     "name": "stderr",
     "output_type": "stream",
     "text": [
      "Processing Pages: 100%|██████████| 13/13 [00:13<00:00,  1.07s/page]\n"
     ]
    },
    {
     "name": "stdout",
     "output_type": "stream",
     "text": [
      "Subcategory 80/87: Causal inference\n",
      "\n",
      "Number of pages in category 'Causal inference': 31\n"
     ]
    },
    {
     "name": "stderr",
     "output_type": "stream",
     "text": [
      "Processing Pages: 100%|██████████| 31/31 [01:19<00:00,  2.56s/page]\n"
     ]
    },
    {
     "name": "stdout",
     "output_type": "stream",
     "text": [
      "Subcategory 81/87: Markov networks\n",
      "\n",
      "Number of pages in category 'Markov networks': 8\n"
     ]
    },
    {
     "name": "stderr",
     "output_type": "stream",
     "text": [
      "Processing Pages: 100%|██████████| 8/8 [00:05<00:00,  1.50page/s]\n"
     ]
    },
    {
     "name": "stdout",
     "output_type": "stream",
     "text": [
      "Subcategory 82/87: Supervised learning\n",
      "\n",
      "Number of pages in category 'Supervised learning': 6\n"
     ]
    },
    {
     "name": "stderr",
     "output_type": "stream",
     "text": [
      "Processing Pages: 100%|██████████| 6/6 [00:07<00:00,  1.21s/page]\n"
     ]
    },
    {
     "name": "stdout",
     "output_type": "stream",
     "text": [
      "Subcategory 83/87: Support vector machines\n",
      "\n",
      "Number of pages in category 'Support vector machines': 9\n"
     ]
    },
    {
     "name": "stderr",
     "output_type": "stream",
     "text": [
      "Processing Pages: 100%|██████████| 9/9 [00:13<00:00,  1.48s/page]\n"
     ]
    },
    {
     "name": "stdout",
     "output_type": "stream",
     "text": [
      "Subcategory 84/87: Unsupervised learning\n",
      "\n",
      "Number of pages in category 'Unsupervised learning': 27\n"
     ]
    },
    {
     "name": "stderr",
     "output_type": "stream",
     "text": [
      "Processing Pages: 100%|██████████| 27/27 [00:48<00:00,  1.79s/page]\n"
     ]
    },
    {
     "name": "stdout",
     "output_type": "stream",
     "text": [
      "Subcategory 85/87: Hebbian theory\n",
      "\n",
      "Number of pages in category 'Hebbian theory': 4\n"
     ]
    },
    {
     "name": "stderr",
     "output_type": "stream",
     "text": [
      "Processing Pages: 100%|██████████| 4/4 [00:03<00:00,  1.16page/s]\n"
     ]
    },
    {
     "name": "stdout",
     "output_type": "stream",
     "text": [
      "Subcategory 86/87: Large language models\n",
      "\n",
      "Number of pages in category 'Large language models': 51\n"
     ]
    },
    {
     "name": "stderr",
     "output_type": "stream",
     "text": [
      "Processing Pages: 100%|██████████| 51/51 [01:03<00:00,  1.24s/page]\n"
     ]
    },
    {
     "name": "stdout",
     "output_type": "stream",
     "text": [
      "Subcategory 87/87: Generative pre-trained transformers\n",
      "\n",
      "Number of pages in category 'Generative pre-trained transformers': 19\n"
     ]
    },
    {
     "name": "stderr",
     "output_type": "stream",
     "text": [
      "Processing Pages: 100%|██████████| 19/19 [00:38<00:00,  2.04s/page]\n"
     ]
    },
    {
     "name": "stdout",
     "output_type": "stream",
     "text": [
      "\n",
      "Number of pages in category 'Machine learning': 240\n"
     ]
    },
    {
     "name": "stderr",
     "output_type": "stream",
     "text": [
      "Processing Pages: 100%|██████████| 240/240 [03:45<00:00,  1.06page/s]\n"
     ]
    }
   ],
   "source": [
    "wikipedia_crawler = WikipediaCategoryCrawler(category, db_manager)\n",
    "wikipedia_crawler.crawl_category()"
   ]
  },
  {
   "cell_type": "code",
   "execution_count": 9,
   "metadata": {},
   "outputs": [],
   "source": [
    "category_name = 'Artificial intelligence'\n",
    "contributor_graph_builder = ContributorGraphBuilder(db_manager, category_name, False)"
   ]
  },
  {
   "cell_type": "code",
   "execution_count": 10,
   "metadata": {},
   "outputs": [
    {
     "name": "stdout",
     "output_type": "stream",
     "text": [
      "Total contributors: 11844\n"
     ]
    },
    {
     "name": "stderr",
     "output_type": "stream",
     "text": [
      "Adding edges: 100%|██████████| 11844/11844 [01:42<00:00, 115.03 contributors/s]"
     ]
    },
    {
     "name": "stdout",
     "output_type": "stream",
     "text": [
      "\n",
      "Detailed Edge Statistics:\n",
      "Total edges added: 3102778\n",
      "Maximum edges for one contributor: 8951 (Contributor ID: 4)\n",
      "Average edges per contributor: 261.97\n",
      "\n",
      "Graph Statistics:\n",
      "Number of vertices (contributors): 11844\n",
      "Number of edges (collaborations): 3102778\n",
      "Graph saved as Machine_learning-weighted.gt\n"
     ]
    },
    {
     "name": "stderr",
     "output_type": "stream",
     "text": [
      "\n"
     ]
    }
   ],
   "source": [
    "contributor_graph_builder.build()"
   ]
  }
 ],
 "metadata": {
  "kernelspec": {
   "display_name": "graph-tool-env",
   "language": "python",
   "name": "python3"
  },
  "language_info": {
   "codemirror_mode": {
    "name": "ipython",
    "version": 3
   },
   "file_extension": ".py",
   "mimetype": "text/x-python",
   "name": "python",
   "nbconvert_exporter": "python",
   "pygments_lexer": "ipython3",
   "version": "3.10.16"
  }
 },
 "nbformat": 4,
 "nbformat_minor": 2
}
