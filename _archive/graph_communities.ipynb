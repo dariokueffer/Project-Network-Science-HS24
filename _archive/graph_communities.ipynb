{
 "cells": [
  {
   "cell_type": "code",
   "execution_count": 12,
   "metadata": {},
   "outputs": [],
   "source": [
    "import networkx as nx\n",
    "import matplotlib.pyplot as plt\n",
    "import numpy as np"
   ]
  },
  {
   "cell_type": "code",
   "execution_count": 13,
   "metadata": {},
   "outputs": [],
   "source": [
    "# import graph gml\n",
    "file_path = 'data/processed/wikipedia_Amiga_CD32_games.gml'\n",
    "file_path = 'data/processed/graph_jazz_collab.gml'\n",
    "\n",
    "G = nx.read_gml(file_path)"
   ]
  },
  {
   "cell_type": "code",
   "execution_count": 14,
   "metadata": {},
   "outputs": [],
   "source": [
    "graph_community_analyzer = GraphCommunityAnalyzer(G)"
   ]
  },
  {
   "cell_type": "code",
   "execution_count": 15,
   "metadata": {},
   "outputs": [
    {
     "name": "stdout",
     "output_type": "stream",
     "text": [
      "--------------------------------------------------\n",
      "Graph: TBD\n",
      "\n",
      "Number communities (label propagation algorithm): 3\n",
      "Number communities (greedy modularity maximization algorithm): 4\n",
      "\n",
      "Modularity (Quality) (label propagation algorithm): 0.2815965256131356\n",
      "Modularity (Quality) (greedy modularity maximization algorithm): 0.43890781537538287\n"
     ]
    }
   ],
   "source": [
    "graph_community_analyzer.print_communities()"
   ]
  },
  {
   "cell_type": "code",
   "execution_count": 16,
   "metadata": {},
   "outputs": [
    {
     "name": "stdout",
     "output_type": "stream",
     "text": [
      "--------------------------------------------------\n",
      "Graph: TBD\n",
      "\n",
      "Number communities (label propagation algorithm): 3\n",
      "Number communities (greedy modularity maximization algorithm): 4\n",
      "\n",
      "Modularity (Quality) (label propagation algorithm): 0.2815965256131356\n",
      "Modularity (Quality) (greedy modularity maximization algorithm): 0.43890781537538287\n",
      "\n",
      "Number communities (label propagation algorithm) - randomized graph: 1\n",
      "Number communities (greedy modularity maximization algorithm) - randomized graph: 4\n",
      "\n",
      "Modularity (Quality) (label propagation algorithm) - randomized graph: 0.0\n",
      "Modularity (Quality) (greedy modularity maximization algorithm) - randomized graph: 0.12105436623270081\n"
     ]
    }
   ],
   "source": [
    "graph_community_analyzer.print_communities(True)"
   ]
  }
 ],
 "metadata": {
  "kernelspec": {
   "display_name": "AML",
   "language": "python",
   "name": "python3"
  },
  "language_info": {
   "codemirror_mode": {
    "name": "ipython",
    "version": 3
   },
   "file_extension": ".py",
   "mimetype": "text/x-python",
   "name": "python",
   "nbconvert_exporter": "python",
   "pygments_lexer": "ipython3",
   "version": "3.8.19"
  }
 },
 "nbformat": 4,
 "nbformat_minor": 2
}
