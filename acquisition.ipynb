{
 "cells": [
  {
   "cell_type": "code",
   "execution_count": 1,
   "metadata": {},
   "outputs": [],
   "source": [
    "from src.acquisition.graph_tool.contributor_graph_builder import ContributorGraphBuilder\n",
    "from src.acquisition.models.database_manager import DatabaseManager\n",
    "from src.acquisition.models.db.database import db"
   ]
  },
  {
   "cell_type": "code",
   "execution_count": 2,
   "metadata": {},
   "outputs": [],
   "source": [
    "import networkx as nx\n",
    "from tqdm import tqdm\n",
    "import pickle\n",
    "from graph_tool.all import Graph\n",
    "\n",
    "class ContributorGraphBuilder:\n",
    "    def __init__(self, db_manager, name, weighted=False):\n",
    "        self.db_manager = db_manager\n",
    "        self.main_category_id = db_manager.get_main_category_by_name(name)\n",
    "        self.graph = Graph(directed=False)\n",
    "\n",
    "        self.node_ids = self.graph.new_vertex_property(\"int\")\n",
    "        self.graph.vertex_properties[\"id\"] = self.node_ids\n",
    "\n",
    "        self.name = name\n",
    "\n",
    "        self.weighted = weighted\n",
    "        if weighted:\n",
    "            self.edge_weights = self.graph.new_edge_property(\"int\")\n",
    "            self.graph.edge_properties[\"weight\"] = self.edge_weights\n",
    "\n",
    "    def fetch_contributors(self):\n",
    "        contributors = self.db_manager.get_all_contributors(main_category_id=self.main_category_id)\n",
    "        print(f\"Total contributors: {len(contributors)}\")\n",
    "        return contributors\n",
    "\n",
    "    def add_nodes(self, contributors):\n",
    "        for contributor in contributors:\n",
    "            v = self.graph.add_vertex()\n",
    "            self.node_ids[v] = contributor.id \n",
    "\n",
    "    def add_edges(self, contributors):\n",
    "        total = len(contributors)\n",
    "        total_edges_added = 0\n",
    "        max_edges_for_one = 0\n",
    "        contributor_with_most = None\n",
    "        \n",
    "        # Create a lookup dictionary for faster vertex finding\n",
    "        vertex_lookup = {}\n",
    "        for v in self.graph.vertices():\n",
    "            vertex_lookup[self.node_ids[v]] = v\n",
    "        \n",
    "        with tqdm(total=total, desc=\"Adding edges\", unit=\" contributors\") as pbar:\n",
    "            for contributor in contributors:\n",
    "                try:\n",
    "                    if self.weighted:\n",
    "                        co_contributors = self.db_manager.get_co_contributors_weighted(\n",
    "                            contributor.id, \n",
    "                            self.main_category_id\n",
    "                        )\n",
    "                    else:\n",
    "                        co_contributors = self.db_manager.get_co_contributors(\n",
    "                            contributor.id, \n",
    "                            self.main_category_id\n",
    "                        )\n",
    "                        \n",
    "                    edges_added_this_contributor = 0\n",
    "                    contributor_vertex = vertex_lookup[contributor.id]\n",
    "                    \n",
    "                    # Batch process co-contributors\n",
    "                    if self.weighted:\n",
    "                        for co_contributor_id, weight in co_contributors.items():\n",
    "                            if co_contributor_id in vertex_lookup:\n",
    "                                co_contributor_vertex = vertex_lookup[co_contributor_id]\n",
    "                                edge = self.graph.edge(contributor_vertex, co_contributor_vertex)\n",
    "                                \n",
    "                                if not edge:\n",
    "                                    edge = self.graph.add_edge(contributor_vertex, co_contributor_vertex)\n",
    "                                    self.edge_weights[edge] = weight\n",
    "                                    edges_added_this_contributor += 1\n",
    "                                    total_edges_added += 1\n",
    "                                else:\n",
    "                                    # Update weight if new weight is higher\n",
    "                                    self.edge_weights[edge] = max(self.edge_weights[edge], weight)\n",
    "                    else:\n",
    "                        for co_contributor_id in co_contributors:\n",
    "                            if co_contributor_id in vertex_lookup:\n",
    "                                co_contributor_vertex = vertex_lookup[co_contributor_id]\n",
    "                                if not self.graph.edge(contributor_vertex, co_contributor_vertex):\n",
    "                                    self.graph.add_edge(contributor_vertex, co_contributor_vertex)\n",
    "                                    edges_added_this_contributor += 1\n",
    "                                    total_edges_added += 1\n",
    "                    \n",
    "                    if edges_added_this_contributor > max_edges_for_one:\n",
    "                        max_edges_for_one = edges_added_this_contributor\n",
    "                        contributor_with_most = contributor.id\n",
    "                    \n",
    "                    pbar.update(1)\n",
    "                    \n",
    "                except Exception as e:\n",
    "                    print(f\"\\nError processing contributor {contributor.id}: {str(e)}\")\n",
    "                    continue\n",
    "        \n",
    "        print(f\"\\nDetailed Edge Statistics:\")\n",
    "        print(f\"Total edges added: {total_edges_added}\")\n",
    "        print(f\"Maximum edges for one contributor: {max_edges_for_one} (Contributor ID: {contributor_with_most})\")\n",
    "        print(f\"Average edges per contributor: {total_edges_added/total:.2f}\")\n",
    "    \n",
    "    def build(self):\n",
    "        contributors = self.fetch_contributors()\n",
    "        self.add_nodes(contributors)\n",
    "        self.add_edges(contributors)\n",
    "\n",
    "        # Print sanity check statistics\n",
    "        num_vertices = self.graph.num_vertices()\n",
    "        num_edges = self.graph.num_edges()\n",
    "        print(f\"\\nGraph Statistics:\")\n",
    "        print(f\"Number of vertices (contributors): {num_vertices}\")\n",
    "        print(f\"Number of edges (collaborations): {num_edges}\")\n",
    "        \n",
    "        file_name = self.name.replace(\" \", \"_\")\n",
    "        self.save_as_gt(file_name)\n",
    "        \n",
    "    def save_as_gt(self, name):\n",
    "        weighted_suffix = \"-weighted\" if self.weighted else \"\"\n",
    "        self.graph.save(f\"outputs/graphs/{name}{weighted_suffix}.gt\", fmt=\"gt\")\n",
    "        print(f\"Graph saved as {name}{weighted_suffix}.gt\")\n"
   ]
  },
  {
   "cell_type": "code",
   "execution_count": 3,
   "metadata": {},
   "outputs": [],
   "source": [
    "db_manager = DatabaseManager(db)"
   ]
  },
  {
   "cell_type": "code",
   "execution_count": 4,
   "metadata": {},
   "outputs": [
    {
     "name": "stdout",
     "output_type": "stream",
     "text": [
      "{'id': 1, 'name': 'Amiga CD32 games', 'number_of_subcategories': 2, 'number_of_pages': 143, 'number_of_contributors': 8013, 'number_of_contributions': 29370}\n",
      "{'id': 2, 'name': 'Artificial intelligence', 'number_of_subcategories': 109, 'number_of_pages': 8695, 'number_of_contributors': 610800, 'number_of_contributions': 2481785}\n"
     ]
    }
   ],
   "source": [
    "items = db_manager.get_all_categories()\n",
    "for item in items:\n",
    "    print(item.to_dict())\n"
   ]
  },
  {
   "cell_type": "code",
   "execution_count": 5,
   "metadata": {},
   "outputs": [],
   "source": [
    "category_name = 'Amiga CD32 games'\n",
    "contributor_graph_builder = ContributorGraphBuilder(db_manager, category_name, True)"
   ]
  },
  {
   "cell_type": "code",
   "execution_count": 6,
   "metadata": {},
   "outputs": [
    {
     "name": "stdout",
     "output_type": "stream",
     "text": [
      "Total contributors: 8013\n"
     ]
    },
    {
     "name": "stderr",
     "output_type": "stream",
     "text": [
      "Adding edges:  35%|███▍      | 2768/8013 [00:19<00:37, 138.62 contributors/s]\n"
     ]
    },
    {
     "ename": "KeyboardInterrupt",
     "evalue": "",
     "output_type": "error",
     "traceback": [
      "\u001b[0;31m---------------------------------------------------------------------------\u001b[0m",
      "\u001b[0;31mKeyboardInterrupt\u001b[0m                         Traceback (most recent call last)",
      "Cell \u001b[0;32mIn[6], line 1\u001b[0m\n\u001b[0;32m----> 1\u001b[0m \u001b[43mcontributor_graph_builder\u001b[49m\u001b[38;5;241;43m.\u001b[39;49m\u001b[43mbuild\u001b[49m\u001b[43m(\u001b[49m\u001b[43m)\u001b[49m\n",
      "Cell \u001b[0;32mIn[2], line 102\u001b[0m, in \u001b[0;36mContributorGraphBuilder.build\u001b[0;34m(self)\u001b[0m\n\u001b[1;32m    100\u001b[0m contributors \u001b[38;5;241m=\u001b[39m \u001b[38;5;28mself\u001b[39m\u001b[38;5;241m.\u001b[39mfetch_contributors()\n\u001b[1;32m    101\u001b[0m \u001b[38;5;28mself\u001b[39m\u001b[38;5;241m.\u001b[39madd_nodes(contributors)\n\u001b[0;32m--> 102\u001b[0m \u001b[38;5;28;43mself\u001b[39;49m\u001b[38;5;241;43m.\u001b[39;49m\u001b[43madd_edges\u001b[49m\u001b[43m(\u001b[49m\u001b[43mcontributors\u001b[49m\u001b[43m)\u001b[49m\n\u001b[1;32m    104\u001b[0m \u001b[38;5;66;03m# Print sanity check statistics\u001b[39;00m\n\u001b[1;32m    105\u001b[0m num_vertices \u001b[38;5;241m=\u001b[39m \u001b[38;5;28mself\u001b[39m\u001b[38;5;241m.\u001b[39mgraph\u001b[38;5;241m.\u001b[39mnum_vertices()\n",
      "Cell \u001b[0;32mIn[2], line 47\u001b[0m, in \u001b[0;36mContributorGraphBuilder.add_edges\u001b[0;34m(self, contributors)\u001b[0m\n\u001b[1;32m     45\u001b[0m \u001b[38;5;28;01mtry\u001b[39;00m:\n\u001b[1;32m     46\u001b[0m     \u001b[38;5;28;01mif\u001b[39;00m \u001b[38;5;28mself\u001b[39m\u001b[38;5;241m.\u001b[39mweighted:\n\u001b[0;32m---> 47\u001b[0m         co_contributors \u001b[38;5;241m=\u001b[39m \u001b[38;5;28;43mself\u001b[39;49m\u001b[38;5;241;43m.\u001b[39;49m\u001b[43mdb_manager\u001b[49m\u001b[38;5;241;43m.\u001b[39;49m\u001b[43mget_co_contributors_weighted\u001b[49m\u001b[43m(\u001b[49m\n\u001b[1;32m     48\u001b[0m \u001b[43m            \u001b[49m\u001b[43mcontributor\u001b[49m\u001b[38;5;241;43m.\u001b[39;49m\u001b[43mid\u001b[49m\u001b[43m,\u001b[49m\u001b[43m \u001b[49m\n\u001b[1;32m     49\u001b[0m \u001b[43m            \u001b[49m\u001b[38;5;28;43mself\u001b[39;49m\u001b[38;5;241;43m.\u001b[39;49m\u001b[43mmain_category_id\u001b[49m\n\u001b[1;32m     50\u001b[0m \u001b[43m        \u001b[49m\u001b[43m)\u001b[49m\n\u001b[1;32m     51\u001b[0m     \u001b[38;5;28;01melse\u001b[39;00m:\n\u001b[1;32m     52\u001b[0m         co_contributors \u001b[38;5;241m=\u001b[39m \u001b[38;5;28mself\u001b[39m\u001b[38;5;241m.\u001b[39mdb_manager\u001b[38;5;241m.\u001b[39mget_co_contributors(\n\u001b[1;32m     53\u001b[0m             contributor\u001b[38;5;241m.\u001b[39mid, \n\u001b[1;32m     54\u001b[0m             \u001b[38;5;28mself\u001b[39m\u001b[38;5;241m.\u001b[39mmain_category_id\n\u001b[1;32m     55\u001b[0m         )\n",
      "File \u001b[0;32m~/Projects/Studium/Project-Network-Science-HS24/src/acquisition/models/database_manager.py:199\u001b[0m, in \u001b[0;36mDatabaseManager.get_co_contributors_weighted\u001b[0;34m(self, contributor_id, main_category_id)\u001b[0m\n\u001b[1;32m    173\u001b[0m pages_subquery \u001b[38;5;241m=\u001b[39m (\n\u001b[1;32m    174\u001b[0m     Page\n\u001b[1;32m    175\u001b[0m     \u001b[38;5;241m.\u001b[39mselect(Page\u001b[38;5;241m.\u001b[39mid)\n\u001b[0;32m   (...)\u001b[0m\n\u001b[1;32m    181\u001b[0m     \u001b[38;5;241m.\u001b[39mdistinct()\n\u001b[1;32m    182\u001b[0m )\n\u001b[1;32m    184\u001b[0m query \u001b[38;5;241m=\u001b[39m (\n\u001b[1;32m    185\u001b[0m     Contributor\n\u001b[1;32m    186\u001b[0m     \u001b[38;5;241m.\u001b[39mselect(\n\u001b[0;32m   (...)\u001b[0m\n\u001b[1;32m    196\u001b[0m     \u001b[38;5;241m.\u001b[39mgroup_by(Contributor\u001b[38;5;241m.\u001b[39mid)\n\u001b[1;32m    197\u001b[0m )\n\u001b[0;32m--> 199\u001b[0m \u001b[38;5;28;01mreturn\u001b[39;00m {c\u001b[38;5;241m.\u001b[39mid: c\u001b[38;5;241m.\u001b[39mco_contribution_count \u001b[38;5;28;01mfor\u001b[39;00m c \u001b[38;5;129;01min\u001b[39;00m query}\n",
      "File \u001b[0;32m~/Projects/Studium/Project-Network-Science-HS24/src/acquisition/models/database_manager.py:199\u001b[0m, in \u001b[0;36m<dictcomp>\u001b[0;34m(.0)\u001b[0m\n\u001b[1;32m    173\u001b[0m pages_subquery \u001b[38;5;241m=\u001b[39m (\n\u001b[1;32m    174\u001b[0m     Page\n\u001b[1;32m    175\u001b[0m     \u001b[38;5;241m.\u001b[39mselect(Page\u001b[38;5;241m.\u001b[39mid)\n\u001b[0;32m   (...)\u001b[0m\n\u001b[1;32m    181\u001b[0m     \u001b[38;5;241m.\u001b[39mdistinct()\n\u001b[1;32m    182\u001b[0m )\n\u001b[1;32m    184\u001b[0m query \u001b[38;5;241m=\u001b[39m (\n\u001b[1;32m    185\u001b[0m     Contributor\n\u001b[1;32m    186\u001b[0m     \u001b[38;5;241m.\u001b[39mselect(\n\u001b[0;32m   (...)\u001b[0m\n\u001b[1;32m    196\u001b[0m     \u001b[38;5;241m.\u001b[39mgroup_by(Contributor\u001b[38;5;241m.\u001b[39mid)\n\u001b[1;32m    197\u001b[0m )\n\u001b[0;32m--> 199\u001b[0m \u001b[38;5;28;01mreturn\u001b[39;00m {c\u001b[38;5;241m.\u001b[39mid: c\u001b[38;5;241m.\u001b[39mco_contribution_count \u001b[38;5;28;01mfor\u001b[39;00m c \u001b[38;5;129;01min\u001b[39;00m query}\n",
      "File \u001b[0;32m/opt/homebrew/Caskroom/miniconda/base/envs/graph-tool-env/lib/python3.10/site-packages/peewee.py:4683\u001b[0m, in \u001b[0;36mResultIterator.next\u001b[0;34m(self)\u001b[0m\n\u001b[1;32m   4681\u001b[0m     obj \u001b[38;5;241m=\u001b[39m \u001b[38;5;28mself\u001b[39m\u001b[38;5;241m.\u001b[39mcursor_wrapper\u001b[38;5;241m.\u001b[39mrow_cache[\u001b[38;5;28mself\u001b[39m\u001b[38;5;241m.\u001b[39mindex]\n\u001b[1;32m   4682\u001b[0m \u001b[38;5;28;01melif\u001b[39;00m \u001b[38;5;129;01mnot\u001b[39;00m \u001b[38;5;28mself\u001b[39m\u001b[38;5;241m.\u001b[39mcursor_wrapper\u001b[38;5;241m.\u001b[39mpopulated:\n\u001b[0;32m-> 4683\u001b[0m     \u001b[38;5;28;43mself\u001b[39;49m\u001b[38;5;241;43m.\u001b[39;49m\u001b[43mcursor_wrapper\u001b[49m\u001b[38;5;241;43m.\u001b[39;49m\u001b[43miterate\u001b[49m\u001b[43m(\u001b[49m\u001b[43m)\u001b[49m\n\u001b[1;32m   4684\u001b[0m     obj \u001b[38;5;241m=\u001b[39m \u001b[38;5;28mself\u001b[39m\u001b[38;5;241m.\u001b[39mcursor_wrapper\u001b[38;5;241m.\u001b[39mrow_cache[\u001b[38;5;28mself\u001b[39m\u001b[38;5;241m.\u001b[39mindex]\n\u001b[1;32m   4685\u001b[0m \u001b[38;5;28;01melse\u001b[39;00m:\n",
      "File \u001b[0;32m/opt/homebrew/Caskroom/miniconda/base/envs/graph-tool-env/lib/python3.10/site-packages/peewee.py:4603\u001b[0m, in \u001b[0;36mCursorWrapper.iterate\u001b[0;34m(self, cache)\u001b[0m\n\u001b[1;32m   4601\u001b[0m     \u001b[38;5;28mself\u001b[39m\u001b[38;5;241m.\u001b[39minitialized \u001b[38;5;241m=\u001b[39m \u001b[38;5;28;01mTrue\u001b[39;00m\n\u001b[1;32m   4602\u001b[0m \u001b[38;5;28mself\u001b[39m\u001b[38;5;241m.\u001b[39mcount \u001b[38;5;241m+\u001b[39m\u001b[38;5;241m=\u001b[39m \u001b[38;5;241m1\u001b[39m\n\u001b[0;32m-> 4603\u001b[0m result \u001b[38;5;241m=\u001b[39m \u001b[38;5;28;43mself\u001b[39;49m\u001b[38;5;241;43m.\u001b[39;49m\u001b[43mprocess_row\u001b[49m\u001b[43m(\u001b[49m\u001b[43mrow\u001b[49m\u001b[43m)\u001b[49m\n\u001b[1;32m   4604\u001b[0m \u001b[38;5;28;01mif\u001b[39;00m cache:\n\u001b[1;32m   4605\u001b[0m     \u001b[38;5;28mself\u001b[39m\u001b[38;5;241m.\u001b[39mrow_cache\u001b[38;5;241m.\u001b[39mappend(result)\n",
      "File \u001b[0;32m/opt/homebrew/Caskroom/miniconda/base/envs/graph-tool-env/lib/python3.10/site-packages/peewee.py:8016\u001b[0m, in \u001b[0;36mModelCursorWrapper.process_row\u001b[0;34m(self, row)\u001b[0m\n\u001b[1;32m   8012\u001b[0m set_keys \u001b[38;5;241m=\u001b[39m \u001b[38;5;28mset\u001b[39m()\n\u001b[1;32m   8013\u001b[0m \u001b[38;5;28;01mfor\u001b[39;00m idx, key \u001b[38;5;129;01min\u001b[39;00m \u001b[38;5;28menumerate\u001b[39m(\u001b[38;5;28mself\u001b[39m\u001b[38;5;241m.\u001b[39mcolumn_keys):\n\u001b[1;32m   8014\u001b[0m     \u001b[38;5;66;03m# Get the instance corresponding to the selected column/value,\u001b[39;00m\n\u001b[1;32m   8015\u001b[0m     \u001b[38;5;66;03m# falling back to the \"root\" model instance.\u001b[39;00m\n\u001b[0;32m-> 8016\u001b[0m     instance \u001b[38;5;241m=\u001b[39m \u001b[43mobjects\u001b[49m\u001b[38;5;241;43m.\u001b[39;49m\u001b[43mget\u001b[49m\u001b[43m(\u001b[49m\u001b[43mkey\u001b[49m\u001b[43m,\u001b[49m\u001b[43m \u001b[49m\u001b[43mdefault_instance\u001b[49m\u001b[43m)\u001b[49m\n\u001b[1;32m   8017\u001b[0m     column \u001b[38;5;241m=\u001b[39m \u001b[38;5;28mself\u001b[39m\u001b[38;5;241m.\u001b[39mcolumns[idx]\n\u001b[1;32m   8018\u001b[0m     value \u001b[38;5;241m=\u001b[39m row[idx]\n",
      "\u001b[0;31mKeyboardInterrupt\u001b[0m: "
     ]
    }
   ],
   "source": [
    "contributor_graph_builder.build()"
   ]
  }
 ],
 "metadata": {
  "kernelspec": {
   "display_name": "graph-tool-env",
   "language": "python",
   "name": "python3"
  },
  "language_info": {
   "codemirror_mode": {
    "name": "ipython",
    "version": 3
   },
   "file_extension": ".py",
   "mimetype": "text/x-python",
   "name": "python",
   "nbconvert_exporter": "python",
   "pygments_lexer": "ipython3",
   "version": "3.10.16"
  }
 },
 "nbformat": 4,
 "nbformat_minor": 2
}
