{
 "cells": [
  {
   "cell_type": "code",
   "execution_count": 1,
   "metadata": {},
   "outputs": [],
   "source": [
    "from src.acquisition.graph_tool.contributor_graph_builder import ContributorGraphBuilder\n",
    "from src.acquisition.models.database_manager import DatabaseManager\n",
    "from src.acquisition.models.db.database import db"
   ]
  },
  {
   "cell_type": "code",
   "execution_count": 2,
   "metadata": {},
   "outputs": [],
   "source": [
    "db_manager = DatabaseManager(db)"
   ]
  },
  {
   "cell_type": "code",
   "execution_count": 9,
   "metadata": {},
   "outputs": [
    {
     "name": "stdout",
     "output_type": "stream",
     "text": [
      "{'id': 1, 'name': 'Amiga CD32 games', 'number_of_subcategories': 2, 'number_of_pages': 143, 'number_of_contributors': 8013, 'number_of_contributions': 29370}\n",
      "{'id': 2, 'name': 'Artificial intelligence', 'number_of_subcategories': 109, 'number_of_pages': 8695, 'number_of_contributors': 610800, 'number_of_contributions': 2481785}\n"
     ]
    }
   ],
   "source": [
    "items = db_manager.get_all_categories()\n",
    "for item in items:\n",
    "    print(item.to_dict())\n"
   ]
  },
  {
   "cell_type": "code",
   "execution_count": 3,
   "metadata": {},
   "outputs": [],
   "source": [
    "category_name = 'Amiga CD32 games'\n",
    "contributor_graph_builder = ContributorGraphBuilder(db_manager, category_name, False)"
   ]
  },
  {
   "cell_type": "code",
   "execution_count": 4,
   "metadata": {},
   "outputs": [
    {
     "name": "stdout",
     "output_type": "stream",
     "text": [
      "Total contributors: 8013\n"
     ]
    },
    {
     "name": "stderr",
     "output_type": "stream",
     "text": [
      "Adding edges: 100%|██████████| 8013/8013 [00:31<00:00, 253.67 contributors/s]"
     ]
    },
    {
     "name": "stdout",
     "output_type": "stream",
     "text": [
      "\n",
      "Detailed Edge Statistics:\n",
      "Total edges added: 1537410\n",
      "Maximum edges for one contributor: 6477 (Contributor ID: 82)\n",
      "Average edges per contributor: 191.86\n",
      "\n",
      "Graph Statistics:\n",
      "Number of vertices (contributors): 8013\n",
      "Number of edges (collaborations): 1537410\n",
      "Graph saved as Amiga_CD32_games.gt\n"
     ]
    },
    {
     "name": "stderr",
     "output_type": "stream",
     "text": [
      "\n"
     ]
    }
   ],
   "source": [
    "contributor_graph_builder.build()"
   ]
  }
 ],
 "metadata": {
  "kernelspec": {
   "display_name": "graph-tool-env",
   "language": "python",
   "name": "python3"
  },
  "language_info": {
   "codemirror_mode": {
    "name": "ipython",
    "version": 3
   },
   "file_extension": ".py",
   "mimetype": "text/x-python",
   "name": "python",
   "nbconvert_exporter": "python",
   "pygments_lexer": "ipython3",
   "version": "3.10.16"
  }
 },
 "nbformat": 4,
 "nbformat_minor": 2
}
