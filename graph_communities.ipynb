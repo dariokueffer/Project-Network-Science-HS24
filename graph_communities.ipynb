{
 "cells": [
  {
   "cell_type": "code",
   "execution_count": 2,
   "metadata": {},
   "outputs": [],
   "source": [
    "import networkx as nx\n",
    "import matplotlib.pyplot as plt\n",
    "import numpy as np"
   ]
  },
  {
   "cell_type": "code",
   "execution_count": 3,
   "metadata": {},
   "outputs": [],
   "source": [
    "# import graph gml\n",
    "file_path = 'data/processed/wikipedia_Amiga_CD32_games.gml'\n",
    "file_path = 'data/processed/graph_jazz_collab.gml'\n",
    "\n",
    "G = nx.read_gml(file_path)"
   ]
  },
  {
   "cell_type": "code",
   "execution_count": 8,
   "metadata": {},
   "outputs": [],
   "source": [
    "class GraphCommunityAnalyzer:\n",
    "    def __init__(self, graph):\n",
    "        self.graph = graph\n",
    "        self.communities = {}\n",
    "        self.randomized_graph = nx.algorithms.smallworld.random_reference(graph, niter=3, connectivity=False, seed=None)\n",
    "\n",
    "    def get_greedy_modularity_maximization_communities(self, is_random=False):\n",
    "        G = self.randomized_graph if is_random else self.graph\n",
    "\n",
    "        suffix = \"_random\" if is_random else \"\"\n",
    "        communities = nx.community.greedy_modularity_communities(G)\n",
    "        temp_communities = []\n",
    "        for comm in communities:\n",
    "            temp_communities.append(list(comm))\n",
    "        self.communities[f'communities_greedy{suffix}'] = temp_communities\n",
    "        self.communities[f'communities_label_prop{suffix}'] = list(nx.community.label_propagation_communities(G))\n",
    "\n",
    "    def calculate_community_quality(self, is_random=False):\n",
    "        G = self.randomized_graph if is_random else self.graph\n",
    "        suffix = \"_random\" if is_random else \"\"\n",
    "\n",
    "        coomunities_greedy = self.communities[f'communities_greedy{suffix}']\n",
    "        coomunities_label_prop = self.communities[f'communities_label_prop{suffix}']\n",
    "\n",
    "        modularity_greedy = nx.community.quality.modularity(G, coomunities_greedy)\n",
    "        modularity_label_prop = nx.community.quality.modularity(G, coomunities_label_prop)\n",
    "\n",
    "        self.communities[f'modularity_greedy{suffix}'] = modularity_greedy\n",
    "        self.communities[f'modularity_label_prop{suffix}'] = modularity_label_prop\n",
    "\n",
    "    def print_communities(self, is_comparison=False):\n",
    "        print(50*'-')\n",
    "        print(f\"Graph: TBD\")\n",
    "        print()\n",
    "        self.get_greedy_modularity_maximization_communities()\n",
    "        self.calculate_community_quality()\n",
    "        print(f\"Number communities (label propagation algorithm): {len(self.communities['communities_label_prop'])}\")\n",
    "        print(f\"Number communities (greedy modularity maximization algorithm): {len(self.communities['communities_greedy'])}\")\n",
    "        print()\n",
    "        print(f\"Modularity (Quality) (label propagation algorithm): {self.communities['modularity_label_prop']}\")\n",
    "        print(f\"Modularity (Quality) (greedy modularity maximization algorithm): {self.communities['modularity_greedy']}\")\n",
    "        self.get_greedy_modularity_maximization_communities(True)\n",
    "        self.calculate_community_quality(True)\n",
    "        if is_comparison:\n",
    "            print()\n",
    "            print(f\"Number communities (label propagation algorithm) - randomized graph: {len(self.communities['communities_label_prop_random'])}\")\n",
    "            print(f\"Number communities (greedy modularity maximization algorithm) - randomized graph: {len(self.communities['communities_greedy_random'])}\")\n",
    "            print()\n",
    "            print(f\"Modularity (Quality) (label propagation algorithm) - randomized graph: {self.communities['modularity_label_prop_random']}\")\n",
    "            print(f\"Modularity (Quality) (greedy modularity maximization algorithm) - randomized graph: {self.communities['modularity_greedy_random']}\")\n"
   ]
  },
  {
   "cell_type": "code",
   "execution_count": 9,
   "metadata": {},
   "outputs": [],
   "source": [
    "graph_community_analyzer = GraphCommunityAnalyzer(G)"
   ]
  },
  {
   "cell_type": "code",
   "execution_count": 10,
   "metadata": {},
   "outputs": [
    {
     "name": "stdout",
     "output_type": "stream",
     "text": [
      "--------------------------------------------------\n",
      "Graph: TBD\n",
      "\n",
      "Number communities (label propagation algorithm): 3\n",
      "Number communities (greedy modularity maximization algorithm): 4\n",
      "\n",
      "Modularity (Quality) (label propagation algorithm): 0.2815965256131356\n",
      "Modularity (Quality) (greedy modularity maximization algorithm): 0.43890781537538287\n"
     ]
    }
   ],
   "source": [
    "graph_community_analyzer.print_communities()"
   ]
  },
  {
   "cell_type": "code",
   "execution_count": 11,
   "metadata": {},
   "outputs": [
    {
     "name": "stdout",
     "output_type": "stream",
     "text": [
      "--------------------------------------------------\n",
      "Graph: TBD\n",
      "\n",
      "Number communities (label propagation algorithm): 3\n",
      "Number communities (greedy modularity maximization algorithm): 4\n",
      "\n",
      "Modularity (Quality) (label propagation algorithm): 0.2815965256131356\n",
      "Modularity (Quality) (greedy modularity maximization algorithm): 0.43890781537538287\n",
      "\n",
      "Number communities (label propagation algorithm) - randomized graph: 1\n",
      "Number communities (greedy modularity maximization algorithm) - randomized graph: 5\n",
      "\n",
      "Modularity (Quality) (label propagation algorithm) - randomized graph: 0.0\n",
      "Modularity (Quality) (greedy modularity maximization algorithm) - randomized graph: 0.11660817145401702\n"
     ]
    }
   ],
   "source": [
    "graph_community_analyzer.print_communities(True)"
   ]
  }
 ],
 "metadata": {
  "kernelspec": {
   "display_name": "AML",
   "language": "python",
   "name": "python3"
  },
  "language_info": {
   "codemirror_mode": {
    "name": "ipython",
    "version": 3
   },
   "file_extension": ".py",
   "mimetype": "text/x-python",
   "name": "python",
   "nbconvert_exporter": "python",
   "pygments_lexer": "ipython3",
   "version": "3.8.19"
  }
 },
 "nbformat": 4,
 "nbformat_minor": 2
}
